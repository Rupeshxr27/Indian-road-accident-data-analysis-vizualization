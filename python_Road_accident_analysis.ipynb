{
 "cells": [
  {
   "cell_type": "markdown",
   "id": "dc42934b",
   "metadata": {},
   "source": [
    "# PROJECT : Indian Road Accident analysis and Visualization\n"
   ]
  },
  {
   "cell_type": "markdown",
   "id": "2a0d6720",
   "metadata": {},
   "source": [
    "#### – The aim of this project is to analyse and visualize the overall road accident pattern in terms of types of vehicle involve , deadly weekday or hour, severity of accident, old age vehicle, types of road where frequent accident happens.\n",
    " "
   ]
  },
  {
   "cell_type": "code",
   "execution_count": 24,
   "id": "100f309f",
   "metadata": {},
   "outputs": [],
   "source": [
    "import numpy as np\n",
    "import pandas as pd\n",
    "import matplotlib.pyplot as plt\n",
    "%matplotlib inline\n",
    "import seaborn as sns\n"
   ]
  },
  {
   "cell_type": "code",
   "execution_count": 25,
   "id": "34f268b9",
   "metadata": {},
   "outputs": [],
   "source": [
    "df1 = pd.read_csv('AccidentsBig.csv')"
   ]
  },
  {
   "cell_type": "code",
   "execution_count": 26,
   "id": "d1ac8fd6",
   "metadata": {},
   "outputs": [
    {
     "data": {
      "text/html": [
       "<div>\n",
       "<style scoped>\n",
       "    .dataframe tbody tr th:only-of-type {\n",
       "        vertical-align: middle;\n",
       "    }\n",
       "\n",
       "    .dataframe tbody tr th {\n",
       "        vertical-align: top;\n",
       "    }\n",
       "\n",
       "    .dataframe thead th {\n",
       "        text-align: right;\n",
       "    }\n",
       "</style>\n",
       "<table border=\"1\" class=\"dataframe\">\n",
       "  <thead>\n",
       "    <tr style=\"text-align: right;\">\n",
       "      <th></th>\n",
       "      <th>Accident_Index</th>\n",
       "      <th>Accident_Severity</th>\n",
       "      <th>Number_of_Vehicles</th>\n",
       "      <th>Number_of_Casualties</th>\n",
       "      <th>Day_of_Week</th>\n",
       "      <th>Time</th>\n",
       "      <th>Road_Type</th>\n",
       "      <th>Speed_limit</th>\n",
       "      <th>Pedestrian_Crossing-Physical_Facilities</th>\n",
       "      <th>Light_Conditions</th>\n",
       "      <th>Road_Surface_Conditions</th>\n",
       "    </tr>\n",
       "  </thead>\n",
       "  <tbody>\n",
       "    <tr>\n",
       "      <th>0</th>\n",
       "      <td>1</td>\n",
       "      <td>Medium</td>\n",
       "      <td>1</td>\n",
       "      <td>1</td>\n",
       "      <td>3</td>\n",
       "      <td>17:42</td>\n",
       "      <td>6</td>\n",
       "      <td>30</td>\n",
       "      <td>1</td>\n",
       "      <td>1</td>\n",
       "      <td>2</td>\n",
       "    </tr>\n",
       "    <tr>\n",
       "      <th>1</th>\n",
       "      <td>2</td>\n",
       "      <td>High</td>\n",
       "      <td>1</td>\n",
       "      <td>1</td>\n",
       "      <td>4</td>\n",
       "      <td>17:36</td>\n",
       "      <td>3</td>\n",
       "      <td>30</td>\n",
       "      <td>5</td>\n",
       "      <td>4</td>\n",
       "      <td>1</td>\n",
       "    </tr>\n",
       "    <tr>\n",
       "      <th>2</th>\n",
       "      <td>3</td>\n",
       "      <td>High</td>\n",
       "      <td>2</td>\n",
       "      <td>1</td>\n",
       "      <td>5</td>\n",
       "      <td>0:15</td>\n",
       "      <td>6</td>\n",
       "      <td>30</td>\n",
       "      <td>0</td>\n",
       "      <td>4</td>\n",
       "      <td>1</td>\n",
       "    </tr>\n",
       "    <tr>\n",
       "      <th>3</th>\n",
       "      <td>4</td>\n",
       "      <td>High</td>\n",
       "      <td>1</td>\n",
       "      <td>1</td>\n",
       "      <td>6</td>\n",
       "      <td>10:35</td>\n",
       "      <td>6</td>\n",
       "      <td>30</td>\n",
       "      <td>0</td>\n",
       "      <td>1</td>\n",
       "      <td>1</td>\n",
       "    </tr>\n",
       "    <tr>\n",
       "      <th>4</th>\n",
       "      <td>5</td>\n",
       "      <td>High</td>\n",
       "      <td>1</td>\n",
       "      <td>1</td>\n",
       "      <td>2</td>\n",
       "      <td>21:13</td>\n",
       "      <td>6</td>\n",
       "      <td>30</td>\n",
       "      <td>0</td>\n",
       "      <td>7</td>\n",
       "      <td>2</td>\n",
       "    </tr>\n",
       "  </tbody>\n",
       "</table>\n",
       "</div>"
      ],
      "text/plain": [
       "   Accident_Index Accident_Severity  Number_of_Vehicles  Number_of_Casualties  \\\n",
       "0               1            Medium                   1                     1   \n",
       "1               2              High                   1                     1   \n",
       "2               3              High                   2                     1   \n",
       "3               4              High                   1                     1   \n",
       "4               5              High                   1                     1   \n",
       "\n",
       "   Day_of_Week   Time  Road_Type  Speed_limit  \\\n",
       "0            3  17:42          6           30   \n",
       "1            4  17:36          3           30   \n",
       "2            5   0:15          6           30   \n",
       "3            6  10:35          6           30   \n",
       "4            2  21:13          6           30   \n",
       "\n",
       "   Pedestrian_Crossing-Physical_Facilities  Light_Conditions  \\\n",
       "0                                        1                 1   \n",
       "1                                        5                 4   \n",
       "2                                        0                 4   \n",
       "3                                        0                 1   \n",
       "4                                        0                 7   \n",
       "\n",
       "   Road_Surface_Conditions  \n",
       "0                        2  \n",
       "1                        1  \n",
       "2                        1  \n",
       "3                        1  \n",
       "4                        2  "
      ]
     },
     "execution_count": 26,
     "metadata": {},
     "output_type": "execute_result"
    }
   ],
   "source": [
    "df1.head()"
   ]
  },
  {
   "cell_type": "code",
   "execution_count": 27,
   "id": "59c8b109",
   "metadata": {},
   "outputs": [
    {
     "name": "stderr",
     "output_type": "stream",
     "text": [
      "C:\\Users\\DELL\\AppData\\Local\\Temp\\ipykernel_14244\\2920980897.py:4: SettingWithCopyWarning: \n",
      "A value is trying to be set on a copy of a slice from a DataFrame\n",
      "\n",
      "See the caveats in the documentation: https://pandas.pydata.org/pandas-docs/stable/user_guide/indexing.html#returning-a-view-versus-a-copy\n",
      "  df1['Road_Type'][i]= map1[df1['Road_Type'][i]]\n"
     ]
    }
   ],
   "source": [
    "#since most of the value here in dataframe is in coded digit ,we need to map and assign the new string value . \n",
    "map1 = {1:\"highway\",2:\"primary road\",3:\"secondry road \",6:\"residential road\",7:\"unpaved road\",9:\"special road\"}\n",
    "for i in range(len(df1['Road_Type'])):\n",
    "    df1['Road_Type'][i]= map1[df1['Road_Type'][i]]\n",
    "    "
   ]
  },
  {
   "cell_type": "code",
   "execution_count": 28,
   "id": "b157d89d",
   "metadata": {},
   "outputs": [
    {
     "name": "stderr",
     "output_type": "stream",
     "text": [
      "C:\\Users\\DELL\\AppData\\Local\\Temp\\ipykernel_14244\\2670893585.py:3: SettingWithCopyWarning: \n",
      "A value is trying to be set on a copy of a slice from a DataFrame\n",
      "\n",
      "See the caveats in the documentation: https://pandas.pydata.org/pandas-docs/stable/user_guide/indexing.html#returning-a-view-versus-a-copy\n",
      "  df1['Pedestrian_Crossing-Physical_Facilities'][i]= map2[df1['Pedestrian_Crossing-Physical_Facilities'][i]]\n"
     ]
    }
   ],
   "source": [
    "map2 = {0:\"zebra\",1:\"signal cross\",4:\"overpass\",5:\"\",7:\"underpass\",8:\"refuge island\"}\n",
    "for i in range(len(df1['Pedestrian_Crossing-Physical_Facilities'])):\n",
    "    df1['Pedestrian_Crossing-Physical_Facilities'][i]= map2[df1['Pedestrian_Crossing-Physical_Facilities'][i]]"
   ]
  },
  {
   "cell_type": "code",
   "execution_count": 29,
   "id": "e968a681",
   "metadata": {},
   "outputs": [
    {
     "name": "stderr",
     "output_type": "stream",
     "text": [
      "C:\\Users\\DELL\\AppData\\Local\\Temp\\ipykernel_14244\\3354703287.py:3: SettingWithCopyWarning: \n",
      "A value is trying to be set on a copy of a slice from a DataFrame\n",
      "\n",
      "See the caveats in the documentation: https://pandas.pydata.org/pandas-docs/stable/user_guide/indexing.html#returning-a-view-versus-a-copy\n",
      "  df1['Light_Conditions'][i]= map3[df1['Light_Conditions'][i]]\n"
     ]
    }
   ],
   "source": [
    "map3 = {1:\"day light\",4:\"dark twilight\",5:\"on\",6:\"off\",7:\"dawn\"}\n",
    "for i in range(len(df1['Light_Conditions'])):\n",
    "    df1['Light_Conditions'][i]= map3[df1['Light_Conditions'][i]]"
   ]
  },
  {
   "cell_type": "code",
   "execution_count": 30,
   "id": "d28a5841",
   "metadata": {},
   "outputs": [
    {
     "name": "stderr",
     "output_type": "stream",
     "text": [
      "C:\\Users\\DELL\\AppData\\Local\\Temp\\ipykernel_14244\\4267304310.py:3: SettingWithCopyWarning: \n",
      "A value is trying to be set on a copy of a slice from a DataFrame\n",
      "\n",
      "See the caveats in the documentation: https://pandas.pydata.org/pandas-docs/stable/user_guide/indexing.html#returning-a-view-versus-a-copy\n",
      "  df1['Road_Surface_Conditions'][i]= map4[df1['Road_Surface_Conditions'][i]]\n"
     ]
    }
   ],
   "source": [
    "map4 = {1:\"dry\",2:\"wet\",3:\"snow cover\",4:\"icy\"}\n",
    "for i in range(len(df1['Road_Surface_Conditions'])):\n",
    "    df1['Road_Surface_Conditions'][i]= map4[df1['Road_Surface_Conditions'][i]]"
   ]
  },
  {
   "cell_type": "code",
   "execution_count": 31,
   "id": "747aab35",
   "metadata": {},
   "outputs": [
    {
     "data": {
      "text/html": [
       "<div>\n",
       "<style scoped>\n",
       "    .dataframe tbody tr th:only-of-type {\n",
       "        vertical-align: middle;\n",
       "    }\n",
       "\n",
       "    .dataframe tbody tr th {\n",
       "        vertical-align: top;\n",
       "    }\n",
       "\n",
       "    .dataframe thead th {\n",
       "        text-align: right;\n",
       "    }\n",
       "</style>\n",
       "<table border=\"1\" class=\"dataframe\">\n",
       "  <thead>\n",
       "    <tr style=\"text-align: right;\">\n",
       "      <th></th>\n",
       "      <th>Accident_Index</th>\n",
       "      <th>Accident_Severity</th>\n",
       "      <th>Number_of_Vehicles</th>\n",
       "      <th>Number_of_Casualties</th>\n",
       "      <th>Day_of_Week</th>\n",
       "      <th>Time</th>\n",
       "      <th>Road_Type</th>\n",
       "      <th>Speed_limit</th>\n",
       "      <th>Pedestrian_Crossing-Physical_Facilities</th>\n",
       "      <th>Light_Conditions</th>\n",
       "      <th>Road_Surface_Conditions</th>\n",
       "    </tr>\n",
       "  </thead>\n",
       "  <tbody>\n",
       "    <tr>\n",
       "      <th>0</th>\n",
       "      <td>1</td>\n",
       "      <td>Medium</td>\n",
       "      <td>1</td>\n",
       "      <td>1</td>\n",
       "      <td>3</td>\n",
       "      <td>17:42</td>\n",
       "      <td>residential road</td>\n",
       "      <td>30</td>\n",
       "      <td>signal cross</td>\n",
       "      <td>day light</td>\n",
       "      <td>wet</td>\n",
       "    </tr>\n",
       "    <tr>\n",
       "      <th>1</th>\n",
       "      <td>2</td>\n",
       "      <td>High</td>\n",
       "      <td>1</td>\n",
       "      <td>1</td>\n",
       "      <td>4</td>\n",
       "      <td>17:36</td>\n",
       "      <td>secondry road</td>\n",
       "      <td>30</td>\n",
       "      <td></td>\n",
       "      <td>dark twilight</td>\n",
       "      <td>dry</td>\n",
       "    </tr>\n",
       "    <tr>\n",
       "      <th>2</th>\n",
       "      <td>3</td>\n",
       "      <td>High</td>\n",
       "      <td>2</td>\n",
       "      <td>1</td>\n",
       "      <td>5</td>\n",
       "      <td>0:15</td>\n",
       "      <td>residential road</td>\n",
       "      <td>30</td>\n",
       "      <td>zebra</td>\n",
       "      <td>dark twilight</td>\n",
       "      <td>dry</td>\n",
       "    </tr>\n",
       "    <tr>\n",
       "      <th>3</th>\n",
       "      <td>4</td>\n",
       "      <td>High</td>\n",
       "      <td>1</td>\n",
       "      <td>1</td>\n",
       "      <td>6</td>\n",
       "      <td>10:35</td>\n",
       "      <td>residential road</td>\n",
       "      <td>30</td>\n",
       "      <td>zebra</td>\n",
       "      <td>day light</td>\n",
       "      <td>dry</td>\n",
       "    </tr>\n",
       "    <tr>\n",
       "      <th>4</th>\n",
       "      <td>5</td>\n",
       "      <td>High</td>\n",
       "      <td>1</td>\n",
       "      <td>1</td>\n",
       "      <td>2</td>\n",
       "      <td>21:13</td>\n",
       "      <td>residential road</td>\n",
       "      <td>30</td>\n",
       "      <td>zebra</td>\n",
       "      <td>dawn</td>\n",
       "      <td>wet</td>\n",
       "    </tr>\n",
       "    <tr>\n",
       "      <th>...</th>\n",
       "      <td>...</td>\n",
       "      <td>...</td>\n",
       "      <td>...</td>\n",
       "      <td>...</td>\n",
       "      <td>...</td>\n",
       "      <td>...</td>\n",
       "      <td>...</td>\n",
       "      <td>...</td>\n",
       "      <td>...</td>\n",
       "      <td>...</td>\n",
       "      <td>...</td>\n",
       "    </tr>\n",
       "    <tr>\n",
       "      <th>2995</th>\n",
       "      <td>2996</td>\n",
       "      <td>High</td>\n",
       "      <td>2</td>\n",
       "      <td>1</td>\n",
       "      <td>1</td>\n",
       "      <td>15:35</td>\n",
       "      <td>residential road</td>\n",
       "      <td>30</td>\n",
       "      <td></td>\n",
       "      <td>day light</td>\n",
       "      <td>dry</td>\n",
       "    </tr>\n",
       "    <tr>\n",
       "      <th>2996</th>\n",
       "      <td>2997</td>\n",
       "      <td>High</td>\n",
       "      <td>2</td>\n",
       "      <td>1</td>\n",
       "      <td>4</td>\n",
       "      <td>21:45</td>\n",
       "      <td>residential road</td>\n",
       "      <td>30</td>\n",
       "      <td></td>\n",
       "      <td>dark twilight</td>\n",
       "      <td>dry</td>\n",
       "    </tr>\n",
       "    <tr>\n",
       "      <th>2997</th>\n",
       "      <td>2998</td>\n",
       "      <td>High</td>\n",
       "      <td>1</td>\n",
       "      <td>1</td>\n",
       "      <td>6</td>\n",
       "      <td>15:25</td>\n",
       "      <td>residential road</td>\n",
       "      <td>30</td>\n",
       "      <td>zebra</td>\n",
       "      <td>day light</td>\n",
       "      <td>dry</td>\n",
       "    </tr>\n",
       "    <tr>\n",
       "      <th>2998</th>\n",
       "      <td>2999</td>\n",
       "      <td>High</td>\n",
       "      <td>2</td>\n",
       "      <td>1</td>\n",
       "      <td>5</td>\n",
       "      <td>16:36</td>\n",
       "      <td>residential road</td>\n",
       "      <td>30</td>\n",
       "      <td></td>\n",
       "      <td>day light</td>\n",
       "      <td>dry</td>\n",
       "    </tr>\n",
       "    <tr>\n",
       "      <th>2999</th>\n",
       "      <td>3000</td>\n",
       "      <td>High</td>\n",
       "      <td>2</td>\n",
       "      <td>1</td>\n",
       "      <td>7</td>\n",
       "      <td>18:35</td>\n",
       "      <td>residential road</td>\n",
       "      <td>30</td>\n",
       "      <td>zebra</td>\n",
       "      <td>day light</td>\n",
       "      <td>dry</td>\n",
       "    </tr>\n",
       "  </tbody>\n",
       "</table>\n",
       "<p>3000 rows × 11 columns</p>\n",
       "</div>"
      ],
      "text/plain": [
       "      Accident_Index Accident_Severity  Number_of_Vehicles  \\\n",
       "0                  1            Medium                   1   \n",
       "1                  2              High                   1   \n",
       "2                  3              High                   2   \n",
       "3                  4              High                   1   \n",
       "4                  5              High                   1   \n",
       "...              ...               ...                 ...   \n",
       "2995            2996              High                   2   \n",
       "2996            2997              High                   2   \n",
       "2997            2998              High                   1   \n",
       "2998            2999              High                   2   \n",
       "2999            3000              High                   2   \n",
       "\n",
       "      Number_of_Casualties  Day_of_Week   Time         Road_Type  Speed_limit  \\\n",
       "0                        1            3  17:42  residential road           30   \n",
       "1                        1            4  17:36    secondry road            30   \n",
       "2                        1            5   0:15  residential road           30   \n",
       "3                        1            6  10:35  residential road           30   \n",
       "4                        1            2  21:13  residential road           30   \n",
       "...                    ...          ...    ...               ...          ...   \n",
       "2995                     1            1  15:35  residential road           30   \n",
       "2996                     1            4  21:45  residential road           30   \n",
       "2997                     1            6  15:25  residential road           30   \n",
       "2998                     1            5  16:36  residential road           30   \n",
       "2999                     1            7  18:35  residential road           30   \n",
       "\n",
       "     Pedestrian_Crossing-Physical_Facilities Light_Conditions  \\\n",
       "0                               signal cross        day light   \n",
       "1                                               dark twilight   \n",
       "2                                      zebra    dark twilight   \n",
       "3                                      zebra        day light   \n",
       "4                                      zebra             dawn   \n",
       "...                                      ...              ...   \n",
       "2995                                                day light   \n",
       "2996                                            dark twilight   \n",
       "2997                                   zebra        day light   \n",
       "2998                                                day light   \n",
       "2999                                   zebra        day light   \n",
       "\n",
       "     Road_Surface_Conditions  \n",
       "0                        wet  \n",
       "1                        dry  \n",
       "2                        dry  \n",
       "3                        dry  \n",
       "4                        wet  \n",
       "...                      ...  \n",
       "2995                     dry  \n",
       "2996                     dry  \n",
       "2997                     dry  \n",
       "2998                     dry  \n",
       "2999                     dry  \n",
       "\n",
       "[3000 rows x 11 columns]"
      ]
     },
     "execution_count": 31,
     "metadata": {},
     "output_type": "execute_result"
    }
   ],
   "source": [
    "#here you see ,all the column has its obivious value.\n",
    "df1"
   ]
  },
  {
   "cell_type": "code",
   "execution_count": 32,
   "id": "889e082f",
   "metadata": {},
   "outputs": [],
   "source": [
    "df1.rename(columns={'Accident_Index':'Accident index'},inplace= True)"
   ]
  },
  {
   "cell_type": "code",
   "execution_count": 33,
   "id": "1fb1d459",
   "metadata": {},
   "outputs": [
    {
     "data": {
      "text/html": [
       "<div>\n",
       "<style scoped>\n",
       "    .dataframe tbody tr th:only-of-type {\n",
       "        vertical-align: middle;\n",
       "    }\n",
       "\n",
       "    .dataframe tbody tr th {\n",
       "        vertical-align: top;\n",
       "    }\n",
       "\n",
       "    .dataframe thead th {\n",
       "        text-align: right;\n",
       "    }\n",
       "</style>\n",
       "<table border=\"1\" class=\"dataframe\">\n",
       "  <thead>\n",
       "    <tr style=\"text-align: right;\">\n",
       "      <th></th>\n",
       "      <th>Accident index</th>\n",
       "      <th>Accident_Severity</th>\n",
       "      <th>Number_of_Vehicles</th>\n",
       "      <th>Number_of_Casualties</th>\n",
       "      <th>Day_of_Week</th>\n",
       "      <th>Time</th>\n",
       "      <th>Road_Type</th>\n",
       "      <th>Speed_limit</th>\n",
       "      <th>Pedestrian_Crossing-Physical_Facilities</th>\n",
       "      <th>Light_Conditions</th>\n",
       "      <th>Road_Surface_Conditions</th>\n",
       "    </tr>\n",
       "  </thead>\n",
       "  <tbody>\n",
       "    <tr>\n",
       "      <th>0</th>\n",
       "      <td>1</td>\n",
       "      <td>Medium</td>\n",
       "      <td>1</td>\n",
       "      <td>1</td>\n",
       "      <td>3</td>\n",
       "      <td>17:42</td>\n",
       "      <td>residential road</td>\n",
       "      <td>30</td>\n",
       "      <td>signal cross</td>\n",
       "      <td>day light</td>\n",
       "      <td>wet</td>\n",
       "    </tr>\n",
       "  </tbody>\n",
       "</table>\n",
       "</div>"
      ],
      "text/plain": [
       "   Accident index Accident_Severity  Number_of_Vehicles  Number_of_Casualties  \\\n",
       "0               1            Medium                   1                     1   \n",
       "\n",
       "   Day_of_Week   Time         Road_Type  Speed_limit  \\\n",
       "0            3  17:42  residential road           30   \n",
       "\n",
       "  Pedestrian_Crossing-Physical_Facilities Light_Conditions  \\\n",
       "0                            signal cross        day light   \n",
       "\n",
       "  Road_Surface_Conditions  \n",
       "0                     wet  "
      ]
     },
     "execution_count": 33,
     "metadata": {},
     "output_type": "execute_result"
    }
   ],
   "source": [
    "df1.head(1)"
   ]
  },
  {
   "cell_type": "markdown",
   "id": "49989764",
   "metadata": {},
   "source": [
    "### read another dataset which consist vehicle and accident details"
   ]
  },
  {
   "cell_type": "code",
   "execution_count": 34,
   "id": "65f73d70",
   "metadata": {},
   "outputs": [],
   "source": [
    "df2= pd.read_excel('Copy of VehiclesBig.xlsx')"
   ]
  },
  {
   "cell_type": "code",
   "execution_count": 35,
   "id": "2c132701",
   "metadata": {},
   "outputs": [],
   "source": [
    "missing_data = [\"not provided\",np.NAN]\n",
    "df2= pd.read_excel('Copy of VehiclesBig.xlsx',na_values=missing_data)"
   ]
  },
  {
   "cell_type": "code",
   "execution_count": 36,
   "id": "d63c998b",
   "metadata": {},
   "outputs": [
    {
     "data": {
      "text/html": [
       "<div>\n",
       "<style scoped>\n",
       "    .dataframe tbody tr th:only-of-type {\n",
       "        vertical-align: middle;\n",
       "    }\n",
       "\n",
       "    .dataframe tbody tr th {\n",
       "        vertical-align: top;\n",
       "    }\n",
       "\n",
       "    .dataframe thead th {\n",
       "        text-align: right;\n",
       "    }\n",
       "</style>\n",
       "<table border=\"1\" class=\"dataframe\">\n",
       "  <thead>\n",
       "    <tr style=\"text-align: right;\">\n",
       "      <th></th>\n",
       "      <th>Accident_Index</th>\n",
       "      <th>vehicle_Reference</th>\n",
       "      <th>1st_Point_of_Impact</th>\n",
       "      <th>Sex_of_Driver</th>\n",
       "      <th>Age_of_Driver</th>\n",
       "      <th>Engine_Capacity_(CC)</th>\n",
       "      <th>Age_of_Vehicle</th>\n",
       "    </tr>\n",
       "  </thead>\n",
       "  <tbody>\n",
       "    <tr>\n",
       "      <th>0</th>\n",
       "      <td>2</td>\n",
       "      <td>1</td>\n",
       "      <td>side right</td>\n",
       "      <td>male</td>\n",
       "      <td>42</td>\n",
       "      <td>8268</td>\n",
       "      <td>3.0</td>\n",
       "    </tr>\n",
       "    <tr>\n",
       "      <th>1</th>\n",
       "      <td>3</td>\n",
       "      <td>1</td>\n",
       "      <td>side right</td>\n",
       "      <td>male</td>\n",
       "      <td>35</td>\n",
       "      <td>8300</td>\n",
       "      <td>5.0</td>\n",
       "    </tr>\n",
       "    <tr>\n",
       "      <th>2</th>\n",
       "      <td>4</td>\n",
       "      <td>2</td>\n",
       "      <td>side left</td>\n",
       "      <td>male</td>\n",
       "      <td>62</td>\n",
       "      <td>1762</td>\n",
       "      <td>6.0</td>\n",
       "    </tr>\n",
       "    <tr>\n",
       "      <th>3</th>\n",
       "      <td>5</td>\n",
       "      <td>1</td>\n",
       "      <td>front</td>\n",
       "      <td>female</td>\n",
       "      <td>49</td>\n",
       "      <td>1769</td>\n",
       "      <td>4.0</td>\n",
       "    </tr>\n",
       "    <tr>\n",
       "      <th>4</th>\n",
       "      <td>6</td>\n",
       "      <td>1</td>\n",
       "      <td>front</td>\n",
       "      <td>male</td>\n",
       "      <td>49</td>\n",
       "      <td>85</td>\n",
       "      <td>10.0</td>\n",
       "    </tr>\n",
       "    <tr>\n",
       "      <th>...</th>\n",
       "      <td>...</td>\n",
       "      <td>...</td>\n",
       "      <td>...</td>\n",
       "      <td>...</td>\n",
       "      <td>...</td>\n",
       "      <td>...</td>\n",
       "      <td>...</td>\n",
       "    </tr>\n",
       "    <tr>\n",
       "      <th>1533</th>\n",
       "      <td>2980</td>\n",
       "      <td>1</td>\n",
       "      <td>side right</td>\n",
       "      <td>male</td>\n",
       "      <td>53</td>\n",
       "      <td>885</td>\n",
       "      <td>7.0</td>\n",
       "    </tr>\n",
       "    <tr>\n",
       "      <th>1534</th>\n",
       "      <td>2982</td>\n",
       "      <td>1</td>\n",
       "      <td>side right</td>\n",
       "      <td>male</td>\n",
       "      <td>28</td>\n",
       "      <td>2494</td>\n",
       "      <td>5.0</td>\n",
       "    </tr>\n",
       "    <tr>\n",
       "      <th>1535</th>\n",
       "      <td>2986</td>\n",
       "      <td>1</td>\n",
       "      <td>front</td>\n",
       "      <td>male</td>\n",
       "      <td>28</td>\n",
       "      <td>1998</td>\n",
       "      <td>8.0</td>\n",
       "    </tr>\n",
       "    <tr>\n",
       "      <th>1536</th>\n",
       "      <td>2995</td>\n",
       "      <td>1</td>\n",
       "      <td>front</td>\n",
       "      <td>male</td>\n",
       "      <td>44</td>\n",
       "      <td>7300</td>\n",
       "      <td>2.0</td>\n",
       "    </tr>\n",
       "    <tr>\n",
       "      <th>1537</th>\n",
       "      <td>2996</td>\n",
       "      <td>1</td>\n",
       "      <td>front</td>\n",
       "      <td>female</td>\n",
       "      <td>29</td>\n",
       "      <td>1896</td>\n",
       "      <td>NaN</td>\n",
       "    </tr>\n",
       "  </tbody>\n",
       "</table>\n",
       "<p>1538 rows × 7 columns</p>\n",
       "</div>"
      ],
      "text/plain": [
       "      Accident_Index  vehicle_Reference 1st_Point_of_Impact Sex_of_Driver  \\\n",
       "0                  2                  1          side right          male   \n",
       "1                  3                  1          side right          male   \n",
       "2                  4                  2           side left          male   \n",
       "3                  5                  1               front        female   \n",
       "4                  6                  1               front          male   \n",
       "...              ...                ...                 ...           ...   \n",
       "1533            2980                  1          side right          male   \n",
       "1534            2982                  1          side right          male   \n",
       "1535            2986                  1               front          male   \n",
       "1536            2995                  1               front          male   \n",
       "1537            2996                  1               front        female   \n",
       "\n",
       "      Age_of_Driver  Engine_Capacity_(CC)  Age_of_Vehicle  \n",
       "0                42                  8268             3.0  \n",
       "1                35                  8300             5.0  \n",
       "2                62                  1762             6.0  \n",
       "3                49                  1769             4.0  \n",
       "4                49                    85            10.0  \n",
       "...             ...                   ...             ...  \n",
       "1533             53                   885             7.0  \n",
       "1534             28                  2494             5.0  \n",
       "1535             28                  1998             8.0  \n",
       "1536             44                  7300             2.0  \n",
       "1537             29                  1896             NaN  \n",
       "\n",
       "[1538 rows x 7 columns]"
      ]
     },
     "execution_count": 36,
     "metadata": {},
     "output_type": "execute_result"
    }
   ],
   "source": [
    "df2"
   ]
  },
  {
   "cell_type": "code",
   "execution_count": 37,
   "id": "24fc5b56",
   "metadata": {},
   "outputs": [
    {
     "name": "stderr",
     "output_type": "stream",
     "text": [
      "C:\\Users\\DELL\\AppData\\Local\\Temp\\ipykernel_14244\\1072689642.py:4: SettingWithCopyWarning: \n",
      "A value is trying to be set on a copy of a slice from a DataFrame\n",
      "\n",
      "See the caveats in the documentation: https://pandas.pydata.org/pandas-docs/stable/user_guide/indexing.html#returning-a-view-versus-a-copy\n",
      "  df2['vehicle_Reference'][i]=map5[df2['vehicle_Reference'][i]]\n"
     ]
    }
   ],
   "source": [
    "#vehicle reference col is in coded form so fix it \n",
    "map5 = {1:\"car\",2:\"motorcycle\",3:\"truck\",4:\"bus\",5:\"bicycle\",6:\"other\"}\n",
    "for i in range(len(df2['vehicle_Reference'])):\n",
    "    df2['vehicle_Reference'][i]=map5[df2['vehicle_Reference'][i]]"
   ]
  },
  {
   "cell_type": "code",
   "execution_count": 38,
   "id": "64fdb6ba",
   "metadata": {},
   "outputs": [
    {
     "data": {
      "text/html": [
       "<div>\n",
       "<style scoped>\n",
       "    .dataframe tbody tr th:only-of-type {\n",
       "        vertical-align: middle;\n",
       "    }\n",
       "\n",
       "    .dataframe tbody tr th {\n",
       "        vertical-align: top;\n",
       "    }\n",
       "\n",
       "    .dataframe thead th {\n",
       "        text-align: right;\n",
       "    }\n",
       "</style>\n",
       "<table border=\"1\" class=\"dataframe\">\n",
       "  <thead>\n",
       "    <tr style=\"text-align: right;\">\n",
       "      <th></th>\n",
       "      <th>Accident_Index</th>\n",
       "      <th>vehicle_Reference</th>\n",
       "      <th>1st_Point_of_Impact</th>\n",
       "      <th>Sex_of_Driver</th>\n",
       "      <th>Age_of_Driver</th>\n",
       "      <th>Engine_Capacity_(CC)</th>\n",
       "      <th>Age_of_Vehicle</th>\n",
       "    </tr>\n",
       "  </thead>\n",
       "  <tbody>\n",
       "    <tr>\n",
       "      <th>0</th>\n",
       "      <td>2</td>\n",
       "      <td>car</td>\n",
       "      <td>side right</td>\n",
       "      <td>male</td>\n",
       "      <td>42</td>\n",
       "      <td>8268</td>\n",
       "      <td>3.0</td>\n",
       "    </tr>\n",
       "    <tr>\n",
       "      <th>1</th>\n",
       "      <td>3</td>\n",
       "      <td>car</td>\n",
       "      <td>side right</td>\n",
       "      <td>male</td>\n",
       "      <td>35</td>\n",
       "      <td>8300</td>\n",
       "      <td>5.0</td>\n",
       "    </tr>\n",
       "    <tr>\n",
       "      <th>2</th>\n",
       "      <td>4</td>\n",
       "      <td>motorcycle</td>\n",
       "      <td>side left</td>\n",
       "      <td>male</td>\n",
       "      <td>62</td>\n",
       "      <td>1762</td>\n",
       "      <td>6.0</td>\n",
       "    </tr>\n",
       "    <tr>\n",
       "      <th>3</th>\n",
       "      <td>5</td>\n",
       "      <td>car</td>\n",
       "      <td>front</td>\n",
       "      <td>female</td>\n",
       "      <td>49</td>\n",
       "      <td>1769</td>\n",
       "      <td>4.0</td>\n",
       "    </tr>\n",
       "    <tr>\n",
       "      <th>4</th>\n",
       "      <td>6</td>\n",
       "      <td>car</td>\n",
       "      <td>front</td>\n",
       "      <td>male</td>\n",
       "      <td>49</td>\n",
       "      <td>85</td>\n",
       "      <td>10.0</td>\n",
       "    </tr>\n",
       "  </tbody>\n",
       "</table>\n",
       "</div>"
      ],
      "text/plain": [
       "   Accident_Index vehicle_Reference 1st_Point_of_Impact Sex_of_Driver  \\\n",
       "0               2               car          side right          male   \n",
       "1               3               car          side right          male   \n",
       "2               4        motorcycle           side left          male   \n",
       "3               5               car               front        female   \n",
       "4               6               car               front          male   \n",
       "\n",
       "   Age_of_Driver  Engine_Capacity_(CC)  Age_of_Vehicle  \n",
       "0             42                  8268             3.0  \n",
       "1             35                  8300             5.0  \n",
       "2             62                  1762             6.0  \n",
       "3             49                  1769             4.0  \n",
       "4             49                    85            10.0  "
      ]
     },
     "execution_count": 38,
     "metadata": {},
     "output_type": "execute_result"
    }
   ],
   "source": [
    "df2.head()"
   ]
  },
  {
   "cell_type": "code",
   "execution_count": 39,
   "id": "28963de9",
   "metadata": {},
   "outputs": [],
   "source": [
    "df2.rename(columns={'Accident_Index':'Accident index'},inplace=True)"
   ]
  },
  {
   "cell_type": "code",
   "execution_count": 40,
   "id": "19964de5",
   "metadata": {},
   "outputs": [
    {
     "data": {
      "text/html": [
       "<div>\n",
       "<style scoped>\n",
       "    .dataframe tbody tr th:only-of-type {\n",
       "        vertical-align: middle;\n",
       "    }\n",
       "\n",
       "    .dataframe tbody tr th {\n",
       "        vertical-align: top;\n",
       "    }\n",
       "\n",
       "    .dataframe thead th {\n",
       "        text-align: right;\n",
       "    }\n",
       "</style>\n",
       "<table border=\"1\" class=\"dataframe\">\n",
       "  <thead>\n",
       "    <tr style=\"text-align: right;\">\n",
       "      <th></th>\n",
       "      <th>Accident index</th>\n",
       "      <th>vehicle_Reference</th>\n",
       "      <th>1st_Point_of_Impact</th>\n",
       "      <th>Sex_of_Driver</th>\n",
       "      <th>Age_of_Driver</th>\n",
       "      <th>Engine_Capacity_(CC)</th>\n",
       "      <th>Age_of_Vehicle</th>\n",
       "    </tr>\n",
       "  </thead>\n",
       "  <tbody>\n",
       "    <tr>\n",
       "      <th>0</th>\n",
       "      <td>2</td>\n",
       "      <td>car</td>\n",
       "      <td>side right</td>\n",
       "      <td>male</td>\n",
       "      <td>42</td>\n",
       "      <td>8268</td>\n",
       "      <td>3.0</td>\n",
       "    </tr>\n",
       "  </tbody>\n",
       "</table>\n",
       "</div>"
      ],
      "text/plain": [
       "   Accident index vehicle_Reference 1st_Point_of_Impact Sex_of_Driver  \\\n",
       "0               2               car          side right          male   \n",
       "\n",
       "   Age_of_Driver  Engine_Capacity_(CC)  Age_of_Vehicle  \n",
       "0             42                  8268             3.0  "
      ]
     },
     "execution_count": 40,
     "metadata": {},
     "output_type": "execute_result"
    }
   ],
   "source": [
    "df2.head(1)"
   ]
  },
  {
   "cell_type": "markdown",
   "id": "a0eff3f0",
   "metadata": {},
   "source": [
    "### merging the above two dataframes df1,df2 for further analysis."
   ]
  },
  {
   "cell_type": "code",
   "execution_count": 41,
   "id": "a6b474f1",
   "metadata": {},
   "outputs": [],
   "source": [
    "df3 = pd.merge(df1,df2,how='inner',on='Accident index')"
   ]
  },
  {
   "cell_type": "code",
   "execution_count": 42,
   "id": "fe9f5592",
   "metadata": {},
   "outputs": [
    {
     "data": {
      "text/html": [
       "<div>\n",
       "<style scoped>\n",
       "    .dataframe tbody tr th:only-of-type {\n",
       "        vertical-align: middle;\n",
       "    }\n",
       "\n",
       "    .dataframe tbody tr th {\n",
       "        vertical-align: top;\n",
       "    }\n",
       "\n",
       "    .dataframe thead th {\n",
       "        text-align: right;\n",
       "    }\n",
       "</style>\n",
       "<table border=\"1\" class=\"dataframe\">\n",
       "  <thead>\n",
       "    <tr style=\"text-align: right;\">\n",
       "      <th></th>\n",
       "      <th>Accident index</th>\n",
       "      <th>Accident_Severity</th>\n",
       "      <th>Number_of_Vehicles</th>\n",
       "      <th>Number_of_Casualties</th>\n",
       "      <th>Day_of_Week</th>\n",
       "      <th>Time</th>\n",
       "      <th>Road_Type</th>\n",
       "      <th>Speed_limit</th>\n",
       "      <th>Pedestrian_Crossing-Physical_Facilities</th>\n",
       "      <th>Light_Conditions</th>\n",
       "      <th>Road_Surface_Conditions</th>\n",
       "      <th>vehicle_Reference</th>\n",
       "      <th>1st_Point_of_Impact</th>\n",
       "      <th>Sex_of_Driver</th>\n",
       "      <th>Age_of_Driver</th>\n",
       "      <th>Engine_Capacity_(CC)</th>\n",
       "      <th>Age_of_Vehicle</th>\n",
       "    </tr>\n",
       "  </thead>\n",
       "  <tbody>\n",
       "    <tr>\n",
       "      <th>0</th>\n",
       "      <td>2</td>\n",
       "      <td>High</td>\n",
       "      <td>1</td>\n",
       "      <td>1</td>\n",
       "      <td>4</td>\n",
       "      <td>17:36</td>\n",
       "      <td>secondry road</td>\n",
       "      <td>30</td>\n",
       "      <td></td>\n",
       "      <td>dark twilight</td>\n",
       "      <td>dry</td>\n",
       "      <td>car</td>\n",
       "      <td>side right</td>\n",
       "      <td>male</td>\n",
       "      <td>42</td>\n",
       "      <td>8268</td>\n",
       "      <td>3.0</td>\n",
       "    </tr>\n",
       "    <tr>\n",
       "      <th>1</th>\n",
       "      <td>3</td>\n",
       "      <td>High</td>\n",
       "      <td>2</td>\n",
       "      <td>1</td>\n",
       "      <td>5</td>\n",
       "      <td>0:15</td>\n",
       "      <td>residential road</td>\n",
       "      <td>30</td>\n",
       "      <td>zebra</td>\n",
       "      <td>dark twilight</td>\n",
       "      <td>dry</td>\n",
       "      <td>car</td>\n",
       "      <td>side right</td>\n",
       "      <td>male</td>\n",
       "      <td>35</td>\n",
       "      <td>8300</td>\n",
       "      <td>5.0</td>\n",
       "    </tr>\n",
       "    <tr>\n",
       "      <th>2</th>\n",
       "      <td>4</td>\n",
       "      <td>High</td>\n",
       "      <td>1</td>\n",
       "      <td>1</td>\n",
       "      <td>6</td>\n",
       "      <td>10:35</td>\n",
       "      <td>residential road</td>\n",
       "      <td>30</td>\n",
       "      <td>zebra</td>\n",
       "      <td>day light</td>\n",
       "      <td>dry</td>\n",
       "      <td>motorcycle</td>\n",
       "      <td>side left</td>\n",
       "      <td>male</td>\n",
       "      <td>62</td>\n",
       "      <td>1762</td>\n",
       "      <td>6.0</td>\n",
       "    </tr>\n",
       "    <tr>\n",
       "      <th>3</th>\n",
       "      <td>5</td>\n",
       "      <td>High</td>\n",
       "      <td>1</td>\n",
       "      <td>1</td>\n",
       "      <td>2</td>\n",
       "      <td>21:13</td>\n",
       "      <td>residential road</td>\n",
       "      <td>30</td>\n",
       "      <td>zebra</td>\n",
       "      <td>dawn</td>\n",
       "      <td>wet</td>\n",
       "      <td>car</td>\n",
       "      <td>front</td>\n",
       "      <td>female</td>\n",
       "      <td>49</td>\n",
       "      <td>1769</td>\n",
       "      <td>4.0</td>\n",
       "    </tr>\n",
       "    <tr>\n",
       "      <th>4</th>\n",
       "      <td>6</td>\n",
       "      <td>High</td>\n",
       "      <td>2</td>\n",
       "      <td>1</td>\n",
       "      <td>3</td>\n",
       "      <td>12:40</td>\n",
       "      <td>residential road</td>\n",
       "      <td>30</td>\n",
       "      <td>zebra</td>\n",
       "      <td>day light</td>\n",
       "      <td>wet</td>\n",
       "      <td>car</td>\n",
       "      <td>front</td>\n",
       "      <td>male</td>\n",
       "      <td>49</td>\n",
       "      <td>85</td>\n",
       "      <td>10.0</td>\n",
       "    </tr>\n",
       "    <tr>\n",
       "      <th>...</th>\n",
       "      <td>...</td>\n",
       "      <td>...</td>\n",
       "      <td>...</td>\n",
       "      <td>...</td>\n",
       "      <td>...</td>\n",
       "      <td>...</td>\n",
       "      <td>...</td>\n",
       "      <td>...</td>\n",
       "      <td>...</td>\n",
       "      <td>...</td>\n",
       "      <td>...</td>\n",
       "      <td>...</td>\n",
       "      <td>...</td>\n",
       "      <td>...</td>\n",
       "      <td>...</td>\n",
       "      <td>...</td>\n",
       "      <td>...</td>\n",
       "    </tr>\n",
       "    <tr>\n",
       "      <th>1533</th>\n",
       "      <td>2980</td>\n",
       "      <td>High</td>\n",
       "      <td>2</td>\n",
       "      <td>2</td>\n",
       "      <td>4</td>\n",
       "      <td>9:40</td>\n",
       "      <td>residential road</td>\n",
       "      <td>30</td>\n",
       "      <td></td>\n",
       "      <td>day light</td>\n",
       "      <td>dry</td>\n",
       "      <td>car</td>\n",
       "      <td>side right</td>\n",
       "      <td>male</td>\n",
       "      <td>53</td>\n",
       "      <td>885</td>\n",
       "      <td>7.0</td>\n",
       "    </tr>\n",
       "    <tr>\n",
       "      <th>1534</th>\n",
       "      <td>2982</td>\n",
       "      <td>Medium</td>\n",
       "      <td>2</td>\n",
       "      <td>1</td>\n",
       "      <td>5</td>\n",
       "      <td>16:15</td>\n",
       "      <td>residential road</td>\n",
       "      <td>30</td>\n",
       "      <td></td>\n",
       "      <td>day light</td>\n",
       "      <td>dry</td>\n",
       "      <td>car</td>\n",
       "      <td>side right</td>\n",
       "      <td>male</td>\n",
       "      <td>28</td>\n",
       "      <td>2494</td>\n",
       "      <td>5.0</td>\n",
       "    </tr>\n",
       "    <tr>\n",
       "      <th>1535</th>\n",
       "      <td>2986</td>\n",
       "      <td>High</td>\n",
       "      <td>2</td>\n",
       "      <td>1</td>\n",
       "      <td>7</td>\n",
       "      <td>13:32</td>\n",
       "      <td>residential road</td>\n",
       "      <td>30</td>\n",
       "      <td></td>\n",
       "      <td>day light</td>\n",
       "      <td>dry</td>\n",
       "      <td>car</td>\n",
       "      <td>front</td>\n",
       "      <td>male</td>\n",
       "      <td>28</td>\n",
       "      <td>1998</td>\n",
       "      <td>8.0</td>\n",
       "    </tr>\n",
       "    <tr>\n",
       "      <th>1536</th>\n",
       "      <td>2995</td>\n",
       "      <td>High</td>\n",
       "      <td>2</td>\n",
       "      <td>1</td>\n",
       "      <td>6</td>\n",
       "      <td>11:11</td>\n",
       "      <td>primary road</td>\n",
       "      <td>30</td>\n",
       "      <td></td>\n",
       "      <td>day light</td>\n",
       "      <td>dry</td>\n",
       "      <td>car</td>\n",
       "      <td>front</td>\n",
       "      <td>male</td>\n",
       "      <td>44</td>\n",
       "      <td>7300</td>\n",
       "      <td>2.0</td>\n",
       "    </tr>\n",
       "    <tr>\n",
       "      <th>1537</th>\n",
       "      <td>2996</td>\n",
       "      <td>High</td>\n",
       "      <td>2</td>\n",
       "      <td>1</td>\n",
       "      <td>1</td>\n",
       "      <td>15:35</td>\n",
       "      <td>residential road</td>\n",
       "      <td>30</td>\n",
       "      <td></td>\n",
       "      <td>day light</td>\n",
       "      <td>dry</td>\n",
       "      <td>car</td>\n",
       "      <td>front</td>\n",
       "      <td>female</td>\n",
       "      <td>29</td>\n",
       "      <td>1896</td>\n",
       "      <td>NaN</td>\n",
       "    </tr>\n",
       "  </tbody>\n",
       "</table>\n",
       "<p>1538 rows × 17 columns</p>\n",
       "</div>"
      ],
      "text/plain": [
       "      Accident index Accident_Severity  Number_of_Vehicles  \\\n",
       "0                  2              High                   1   \n",
       "1                  3              High                   2   \n",
       "2                  4              High                   1   \n",
       "3                  5              High                   1   \n",
       "4                  6              High                   2   \n",
       "...              ...               ...                 ...   \n",
       "1533            2980              High                   2   \n",
       "1534            2982            Medium                   2   \n",
       "1535            2986              High                   2   \n",
       "1536            2995              High                   2   \n",
       "1537            2996              High                   2   \n",
       "\n",
       "      Number_of_Casualties  Day_of_Week   Time         Road_Type  Speed_limit  \\\n",
       "0                        1            4  17:36    secondry road            30   \n",
       "1                        1            5   0:15  residential road           30   \n",
       "2                        1            6  10:35  residential road           30   \n",
       "3                        1            2  21:13  residential road           30   \n",
       "4                        1            3  12:40  residential road           30   \n",
       "...                    ...          ...    ...               ...          ...   \n",
       "1533                     2            4   9:40  residential road           30   \n",
       "1534                     1            5  16:15  residential road           30   \n",
       "1535                     1            7  13:32  residential road           30   \n",
       "1536                     1            6  11:11      primary road           30   \n",
       "1537                     1            1  15:35  residential road           30   \n",
       "\n",
       "     Pedestrian_Crossing-Physical_Facilities Light_Conditions  \\\n",
       "0                                               dark twilight   \n",
       "1                                      zebra    dark twilight   \n",
       "2                                      zebra        day light   \n",
       "3                                      zebra             dawn   \n",
       "4                                      zebra        day light   \n",
       "...                                      ...              ...   \n",
       "1533                                                day light   \n",
       "1534                                                day light   \n",
       "1535                                                day light   \n",
       "1536                                                day light   \n",
       "1537                                                day light   \n",
       "\n",
       "     Road_Surface_Conditions vehicle_Reference 1st_Point_of_Impact  \\\n",
       "0                        dry               car          side right   \n",
       "1                        dry               car          side right   \n",
       "2                        dry        motorcycle           side left   \n",
       "3                        wet               car               front   \n",
       "4                        wet               car               front   \n",
       "...                      ...               ...                 ...   \n",
       "1533                     dry               car          side right   \n",
       "1534                     dry               car          side right   \n",
       "1535                     dry               car               front   \n",
       "1536                     dry               car               front   \n",
       "1537                     dry               car               front   \n",
       "\n",
       "     Sex_of_Driver  Age_of_Driver  Engine_Capacity_(CC)  Age_of_Vehicle  \n",
       "0             male             42                  8268             3.0  \n",
       "1             male             35                  8300             5.0  \n",
       "2             male             62                  1762             6.0  \n",
       "3           female             49                  1769             4.0  \n",
       "4             male             49                    85            10.0  \n",
       "...            ...            ...                   ...             ...  \n",
       "1533          male             53                   885             7.0  \n",
       "1534          male             28                  2494             5.0  \n",
       "1535          male             28                  1998             8.0  \n",
       "1536          male             44                  7300             2.0  \n",
       "1537        female             29                  1896             NaN  \n",
       "\n",
       "[1538 rows x 17 columns]"
      ]
     },
     "execution_count": 42,
     "metadata": {},
     "output_type": "execute_result"
    }
   ],
   "source": [
    "df3"
   ]
  },
  {
   "cell_type": "code",
   "execution_count": 43,
   "id": "b453dbc3",
   "metadata": {},
   "outputs": [
    {
     "name": "stdout",
     "output_type": "stream",
     "text": [
      "<class 'pandas.core.frame.DataFrame'>\n",
      "Int64Index: 1538 entries, 0 to 1537\n",
      "Data columns (total 17 columns):\n",
      " #   Column                                   Non-Null Count  Dtype  \n",
      "---  ------                                   --------------  -----  \n",
      " 0   Accident index                           1538 non-null   int64  \n",
      " 1   Accident_Severity                        1538 non-null   object \n",
      " 2   Number_of_Vehicles                       1538 non-null   int64  \n",
      " 3   Number_of_Casualties                     1538 non-null   int64  \n",
      " 4   Day_of_Week                              1538 non-null   int64  \n",
      " 5   Time                                     1538 non-null   object \n",
      " 6   Road_Type                                1538 non-null   object \n",
      " 7   Speed_limit                              1538 non-null   int64  \n",
      " 8   Pedestrian_Crossing-Physical_Facilities  1538 non-null   object \n",
      " 9   Light_Conditions                         1538 non-null   object \n",
      " 10  Road_Surface_Conditions                  1538 non-null   object \n",
      " 11  vehicle_Reference                        1538 non-null   object \n",
      " 12  1st_Point_of_Impact                      1538 non-null   object \n",
      " 13  Sex_of_Driver                            1538 non-null   object \n",
      " 14  Age_of_Driver                            1538 non-null   int64  \n",
      " 15  Engine_Capacity_(CC)                     1538 non-null   int64  \n",
      " 16  Age_of_Vehicle                           1433 non-null   float64\n",
      "dtypes: float64(1), int64(7), object(9)\n",
      "memory usage: 216.3+ KB\n"
     ]
    }
   ],
   "source": [
    "df3.info()"
   ]
  },
  {
   "cell_type": "markdown",
   "id": "141565ab",
   "metadata": {},
   "source": [
    "### count the each accident severity level"
   ]
  },
  {
   "cell_type": "code",
   "execution_count": 45,
   "id": "8ec660e4",
   "metadata": {},
   "outputs": [
    {
     "data": {
      "text/plain": [
       "High      2639\n",
       "Medium     360\n",
       "Low          1\n",
       "Name: Accident_Severity, dtype: int64"
      ]
     },
     "execution_count": 45,
     "metadata": {},
     "output_type": "execute_result"
    }
   ],
   "source": [
    "df1['Accident_Severity'].value_counts()"
   ]
  },
  {
   "cell_type": "markdown",
   "id": "3e7e5f10",
   "metadata": {},
   "source": [
    "### Accident Severity dipiction using histogram plot"
   ]
  },
  {
   "cell_type": "code",
   "execution_count": 100,
   "id": "f8f09002",
   "metadata": {},
   "outputs": [
    {
     "data": {
      "text/plain": [
       "<AxesSubplot:xlabel='Accident_Severity', ylabel='Count'>"
      ]
     },
     "execution_count": 100,
     "metadata": {},
     "output_type": "execute_result"
    },
    {
     "data": {
      "image/png": "[encoded data removed]",
      "text/plain": [
       "<Figure size 432x288 with 1 Axes>"
      ]
     },
     "metadata": {
      "needs_background": "light"
     },
     "output_type": "display_data"
    }
   ],
   "source": [
    "sns.histplot(df1['Accident_Severity'])\n",
    "#here you see about 2600 cases lies under high severity"
   ]
  },
  {
   "cell_type": "markdown",
   "id": "9ee167ac",
   "metadata": {},
   "source": [
    "### what is the max no of casualties in a single accident on each road type?"
   ]
  },
  {
   "cell_type": "code",
   "execution_count": 46,
   "id": "12ef1cc7",
   "metadata": {},
   "outputs": [
    {
     "data": {
      "text/html": [
       "<div>\n",
       "<style scoped>\n",
       "    .dataframe tbody tr th:only-of-type {\n",
       "        vertical-align: middle;\n",
       "    }\n",
       "\n",
       "    .dataframe tbody tr th {\n",
       "        vertical-align: top;\n",
       "    }\n",
       "\n",
       "    .dataframe thead th {\n",
       "        text-align: right;\n",
       "    }\n",
       "</style>\n",
       "<table border=\"1\" class=\"dataframe\">\n",
       "  <thead>\n",
       "    <tr style=\"text-align: right;\">\n",
       "      <th></th>\n",
       "      <th>Accident index</th>\n",
       "      <th>Number_of_Vehicles</th>\n",
       "      <th>Number_of_Casualties</th>\n",
       "      <th>Day_of_Week</th>\n",
       "      <th>Speed_limit</th>\n",
       "    </tr>\n",
       "    <tr>\n",
       "      <th>Road_Type</th>\n",
       "      <th></th>\n",
       "      <th></th>\n",
       "      <th></th>\n",
       "      <th></th>\n",
       "      <th></th>\n",
       "    </tr>\n",
       "  </thead>\n",
       "  <tbody>\n",
       "    <tr>\n",
       "      <th>highway</th>\n",
       "      <td>2960</td>\n",
       "      <td>3</td>\n",
       "      <td>4</td>\n",
       "      <td>7</td>\n",
       "      <td>30</td>\n",
       "    </tr>\n",
       "    <tr>\n",
       "      <th>primary road</th>\n",
       "      <td>2995</td>\n",
       "      <td>3</td>\n",
       "      <td>4</td>\n",
       "      <td>7</td>\n",
       "      <td>50</td>\n",
       "    </tr>\n",
       "    <tr>\n",
       "      <th>residential road</th>\n",
       "      <td>3000</td>\n",
       "      <td>5</td>\n",
       "      <td>8</td>\n",
       "      <td>7</td>\n",
       "      <td>40</td>\n",
       "    </tr>\n",
       "    <tr>\n",
       "      <th>secondry road</th>\n",
       "      <td>2981</td>\n",
       "      <td>5</td>\n",
       "      <td>4</td>\n",
       "      <td>7</td>\n",
       "      <td>60</td>\n",
       "    </tr>\n",
       "    <tr>\n",
       "      <th>special road</th>\n",
       "      <td>2436</td>\n",
       "      <td>2</td>\n",
       "      <td>1</td>\n",
       "      <td>7</td>\n",
       "      <td>30</td>\n",
       "    </tr>\n",
       "    <tr>\n",
       "      <th>unpaved road</th>\n",
       "      <td>2968</td>\n",
       "      <td>2</td>\n",
       "      <td>2</td>\n",
       "      <td>6</td>\n",
       "      <td>30</td>\n",
       "    </tr>\n",
       "  </tbody>\n",
       "</table>\n",
       "</div>"
      ],
      "text/plain": [
       "                  Accident index  Number_of_Vehicles  Number_of_Casualties  \\\n",
       "Road_Type                                                                    \n",
       "highway                     2960                   3                     4   \n",
       "primary road                2995                   3                     4   \n",
       "residential road            3000                   5                     8   \n",
       "secondry road               2981                   5                     4   \n",
       "special road                2436                   2                     1   \n",
       "unpaved road                2968                   2                     2   \n",
       "\n",
       "                  Day_of_Week  Speed_limit  \n",
       "Road_Type                                   \n",
       "highway                     7           30  \n",
       "primary road                7           50  \n",
       "residential road            7           40  \n",
       "secondry road               7           60  \n",
       "special road                7           30  \n",
       "unpaved road                6           30  "
      ]
     },
     "execution_count": 46,
     "metadata": {},
     "output_type": "execute_result"
    }
   ],
   "source": [
    "df1.groupby('Road_Type').max('Number_of_Casualties')"
   ]
  },
  {
   "cell_type": "code",
   "execution_count": 89,
   "id": "40970362",
   "metadata": {},
   "outputs": [
    {
     "data": {
      "text/plain": [
       "<seaborn.axisgrid.JointGrid at 0x1ed51ee6580>"
      ]
     },
     "execution_count": 89,
     "metadata": {},
     "output_type": "execute_result"
    },
    {
     "data": {
      "image/png": "[encoded data removed]",
      "text/plain": [
       "<Figure size 576x576 with 3 Axes>"
      ]
     },
     "metadata": {
      "needs_background": "light"
     },
     "output_type": "display_data"
    }
   ],
   "source": [
    "sns.jointplot(x='Road_Type',y='Number_of_Casualties',data=df1,height=8)\n",
    "#here we see,maximum number of casualities takes place on residential roads followed by primary and secondary roads."
   ]
  },
  {
   "cell_type": "markdown",
   "id": "074b715a",
   "metadata": {},
   "source": [
    "### what is the total no of casualties during bad light condititon from df1?"
   ]
  },
  {
   "cell_type": "code",
   "execution_count": 93,
   "id": "a3e6f01d",
   "metadata": {},
   "outputs": [
    {
     "data": {
      "text/plain": [
       "Light_Conditions\n",
       "dark twilight     942\n",
       "dawn                7\n",
       "day light        2039\n",
       "off                 1\n",
       "on                 11\n",
       "Name: Number_of_Casualties, dtype: int64"
      ]
     },
     "execution_count": 93,
     "metadata": {},
     "output_type": "execute_result"
    }
   ],
   "source": [
    "df1.groupby('Light_Conditions').count()['Number_of_Casualties']"
   ]
  },
  {
   "cell_type": "markdown",
   "id": "e421823c",
   "metadata": {},
   "source": [
    "### catagorical plot: light condition vs no. of casualties"
   ]
  },
  {
   "cell_type": "code",
   "execution_count": 105,
   "id": "2bc26f07",
   "metadata": {},
   "outputs": [
    {
     "name": "stderr",
     "output_type": "stream",
     "text": [
      "C:\\Users\\DELL\\anaconda3\\lib\\site-packages\\seaborn\\categorical.py:2805: UserWarning: The `split` parameter has been renamed to `dodge`.\n",
      "  warnings.warn(msg, UserWarning)\n"
     ]
    },
    {
     "data": {
      "text/plain": [
       "<AxesSubplot:xlabel='Light_Conditions', ylabel='Number_of_Casualties'>"
      ]
     },
     "execution_count": 105,
     "metadata": {},
     "output_type": "execute_result"
    },
    {
     "data": {
      "image/png": "[encoded data removed]",
      "text/plain": [
       "<Figure size 432x288 with 1 Axes>"
      ]
     },
     "metadata": {
      "needs_background": "light"
     },
     "output_type": "display_data"
    }
   ],
   "source": [
    "sns.stripplot(x='Light_Conditions',y='Number_of_Casualties',data=df3,hue='Road_Type',size=10,split=True)"
   ]
  },
  {
   "cell_type": "markdown",
   "id": "f081f038",
   "metadata": {},
   "source": [
    "# what are the total no of casualties during each vehicle type collision?"
   ]
  },
  {
   "cell_type": "code",
   "execution_count": 48,
   "id": "a9a29c0f",
   "metadata": {},
   "outputs": [
    {
     "data": {
      "text/plain": [
       "vehicle_Reference\n",
       "bicycle          1\n",
       "bus              4\n",
       "car           1054\n",
       "motorcycle     436\n",
       "truck           43\n",
       "Name: Number_of_Casualties, dtype: int64"
      ]
     },
     "execution_count": 48,
     "metadata": {},
     "output_type": "execute_result"
    }
   ],
   "source": [
    "#data reveals that max casualtites happend due to car and motorcycle involvment \n",
    "df3.groupby('vehicle_Reference').count()['Number_of_Casualties']"
   ]
  },
  {
   "cell_type": "code",
   "execution_count": 117,
   "id": "aea951a4",
   "metadata": {},
   "outputs": [
    {
     "data": {
      "text/plain": [
       "<AxesSubplot:xlabel='vehicle_Reference', ylabel='Age_of_Vehicle'>"
      ]
     },
     "execution_count": 117,
     "metadata": {},
     "output_type": "execute_result"
    },
    {
     "data": {
      "image/png": "[encoded data removed]",
      "text/plain": [
       "<Figure size 432x288 with 1 Axes>"
      ]
     },
     "metadata": {
      "needs_background": "light"
     },
     "output_type": "display_data"
    }
   ],
   "source": [
    "sns.violinplot(x='vehicle_Reference',y='Age_of_Vehicle',data=df3)\n",
    "#violinplot shows many vehicle is of old age probably out of maintaince"
   ]
  },
  {
   "cell_type": "markdown",
   "id": "04e93e2c",
   "metadata": {},
   "source": [
    " ### sort the death due to types of collision or 1st point of impact"
   ]
  },
  {
   "cell_type": "code",
   "execution_count": 49,
   "id": "2ca65446",
   "metadata": {},
   "outputs": [
    {
     "data": {
      "text/plain": [
       "1st_Point_of_Impact\n",
       "front           600\n",
       "not reported      1\n",
       "rear            185\n",
       "side left       303\n",
       "side right      309\n",
       "unknown         140\n",
       "Name: Number_of_Casualties, dtype: int64"
      ]
     },
     "execution_count": 49,
     "metadata": {},
     "output_type": "execute_result"
    }
   ],
   "source": [
    "df3.groupby('1st_Point_of_Impact').count()['Number_of_Casualties']"
   ]
  },
  {
   "cell_type": "code",
   "execution_count": 50,
   "id": "58a32e18",
   "metadata": {},
   "outputs": [],
   "source": [
    "#data reveals that 600 deaths are due to front collision."
   ]
  },
  {
   "cell_type": "markdown",
   "id": "a822ef23",
   "metadata": {},
   "source": [
    "### Total Number of accident that takes places after 18:00"
   ]
  },
  {
   "cell_type": "code",
   "execution_count": 51,
   "id": "3b4761dd",
   "metadata": {},
   "outputs": [
    {
     "data": {
      "text/plain": [
       "1494"
      ]
     },
     "execution_count": 51,
     "metadata": {},
     "output_type": "execute_result"
    }
   ],
   "source": [
    "df1[df1['Time']>= '18:00'].count()['Accident index']"
   ]
  },
  {
   "cell_type": "markdown",
   "id": "72ae7093",
   "metadata": {},
   "source": [
    "### Age of the vehicle more than 10 years ,involve in number of accidents"
   ]
  },
  {
   "cell_type": "code",
   "execution_count": 52,
   "id": "386b1529",
   "metadata": {},
   "outputs": [
    {
     "data": {
      "text/plain": [
       "Age_of_Vehicle\n",
       "10.0    48\n",
       "11.0    45\n",
       "12.0    28\n",
       "13.0    24\n",
       "15.0    23\n",
       "14.0    16\n",
       "16.0    13\n",
       "18.0     5\n",
       "17.0     4\n",
       "20.0     4\n",
       "19.0     3\n",
       "21.0     2\n",
       "27.0     2\n",
       "23.0     1\n",
       "40.0     1\n",
       "41.0     1\n",
       "dtype: int64"
      ]
     },
     "execution_count": 52,
     "metadata": {},
     "output_type": "execute_result"
    }
   ],
   "source": [
    "df3[df3['Age_of_Vehicle']>=10].value_counts('Age_of_Vehicle')\n"
   ]
  },
  {
   "cell_type": "markdown",
   "id": "6bc206d9",
   "metadata": {},
   "source": [
    "### matrix plot: heat map (vehicle impact ,type  and age of vehicle)"
   ]
  },
  {
   "cell_type": "code",
   "execution_count": 112,
   "id": "1885bf92",
   "metadata": {},
   "outputs": [
    {
     "data": {
      "text/plain": [
       "<AxesSubplot:xlabel='1st_Point_of_Impact', ylabel='vehicle_Reference'>"
      ]
     },
     "execution_count": 112,
     "metadata": {},
     "output_type": "execute_result"
    },
    {
     "data": {
      "image/png": "[encoded data removed]",
      "text/plain": [
       "<Figure size 432x288 with 2 Axes>"
      ]
     },
     "metadata": {
      "needs_background": "light"
     },
     "output_type": "display_data"
    }
   ],
   "source": [
    "pv_table = df3.pivot_table(index='vehicle_Reference',columns='1st_Point_of_Impact',values='Age_of_Vehicle')\n",
    "sns.heatmap(pv_table,cmap='coolwarm',linecolor='white',annot=True)"
   ]
  },
  {
   "cell_type": "markdown",
   "id": "50ec25fe",
   "metadata": {},
   "source": [
    "### sort the age of the driver involve in the accident"
   ]
  },
  {
   "cell_type": "code",
   "execution_count": 23,
   "id": "cbcdc3ea",
   "metadata": {},
   "outputs": [
    {
     "data": {
      "text/plain": [
       "Age_of_Driver\n",
       "63    12\n",
       "60    11\n",
       "62    11\n",
       "64     8\n",
       "65     8\n",
       "67     8\n",
       "61     8\n",
       "66     7\n",
       "72     7\n",
       "70     6\n",
       "68     4\n",
       "73     3\n",
       "75     3\n",
       "77     2\n",
       "81     2\n",
       "80     2\n",
       "71     2\n",
       "69     2\n",
       "78     1\n",
       "74     1\n",
       "83     1\n",
       "85     1\n",
       "dtype: int64"
      ]
     },
     "execution_count": 23,
     "metadata": {},
     "output_type": "execute_result"
    }
   ],
   "source": [
    "\n",
    "df3[df3['Age_of_Driver']>=60].value_counts('Age_of_Driver')"
   ]
  },
  {
   "cell_type": "code",
   "execution_count": 114,
   "id": "3bb9c3b1",
   "metadata": {},
   "outputs": [
    {
     "data": {
      "text/plain": [
       "<AxesSubplot:xlabel='Age_of_Driver', ylabel='Count'>"
      ]
     },
     "execution_count": 114,
     "metadata": {},
     "output_type": "execute_result"
    },
    {
     "data": {
      "image/png": "[encoded data removed]",
      "text/plain": [
       "<Figure size 432x288 with 1 Axes>"
      ]
     },
     "metadata": {
      "needs_background": "light"
     },
     "output_type": "display_data"
    }
   ],
   "source": [
    "sns.histplot(df3['Age_of_Driver'])"
   ]
  },
  {
   "cell_type": "markdown",
   "id": "ba18604a",
   "metadata": {},
   "source": [
    "### catagorical plot: week day accident visualization "
   ]
  },
  {
   "cell_type": "code",
   "execution_count": 98,
   "id": "b47768b5",
   "metadata": {},
   "outputs": [
    {
     "data": {
      "text/plain": [
       "<AxesSubplot:xlabel='Day_of_Week', ylabel='Accident index'>"
      ]
     },
     "execution_count": 98,
     "metadata": {},
     "output_type": "execute_result"
    },
    {
     "data": {
      "image/png": "[encoded data removed]",
      "text/plain": [
       "<Figure size 432x288 with 1 Axes>"
      ]
     },
     "metadata": {
      "needs_background": "light"
     },
     "output_type": "display_data"
    }
   ],
   "source": [
    "sns.barplot(x='Day_of_Week',y='Accident index',data=df1,palette='magma')"
   ]
  },
  {
   "cell_type": "markdown",
   "id": "c52e696c",
   "metadata": {},
   "source": [
    "### conclusion: above analysis and vizualization clearly depicts insightful information about the dataset such as.\n",
    "#### 1. Majority of the accident comes under high severity(2639) and 360 accidents cases under medium severity.\n",
    "#### 2. majority of the vehicle involved in the accident are cars(1054) followed by bike (436).\n",
    "#### 3. death due to front collision are 600.\n",
    "#### 4. Total Number of accident that takes places after 18:00 are 1494.\n",
    "#### 5. there are large number of old age vehicle(more than 10 year old) that involved in the accidents.\n",
    "\n",
    "#### according to the above information , government can take strict traffic rule measures to deal with the accidents. good road infrastructure ,Pedestrian crossing physical facilities , light condition along with strict vehicle health rule ,these are the meaures need to be taken to reduces these figures"
   ]
  },
  {
   "cell_type": "code",
   "execution_count": null,
   "id": "85d0170a",
   "metadata": {},
   "outputs": [],
   "source": []
  }
 ],
 "metadata": {
  "kernelspec": {
   "display_name": "Python 3 (ipykernel)",
   "language": "python",
   "name": "python3"
  },
  "language_info": {
   "codemirror_mode": {
    "name": "ipython",
    "version": 3
   },
   "file_extension": ".py",
   "mimetype": "text/x-python",
   "name": "python",
   "nbconvert_exporter": "python",
   "pygments_lexer": "ipython3",
   "version": "3.9.12"
  }
 },
 "nbformat": 4,
 "nbformat_minor": 5
}
